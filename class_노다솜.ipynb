{
  "nbformat": 4,
  "nbformat_minor": 0,
  "metadata": {
    "colab": {
      "provenance": [],
      "authorship_tag": "ABX9TyPdqLckYkQo7fJaxW2i7l+Z",
      "include_colab_link": true
    },
    "kernelspec": {
      "name": "python3",
      "display_name": "Python 3"
    },
    "language_info": {
      "name": "python"
    }
  },
  "cells": [
    {
      "cell_type": "markdown",
      "metadata": {
        "id": "view-in-github",
        "colab_type": "text"
      },
      "source": [
        "<a href=\"https://colab.research.google.com/github/dasomnoh/python-/blob/main/class_%EB%85%B8%EB%8B%A4%EC%86%9C.ipynb\" target=\"_parent\"><img src=\"https://colab.research.google.com/assets/colab-badge.svg\" alt=\"Open In Colab\"/></a>"
      ]
    },
    {
      "cell_type": "code",
      "execution_count": 2,
      "metadata": {
        "colab": {
          "base_uri": "https://localhost:8080/"
        },
        "id": "6wTS5hoVTugi",
        "outputId": "5992c98a-cdda-4187-9891-6a675cce6dba"
      },
      "outputs": [
        {
          "output_type": "stream",
          "name": "stdout",
          "text": [
            "3\n",
            "7\n"
          ]
        }
      ],
      "source": [
        "result = 0\n",
        "\n",
        "def adder(num):\n",
        "    global result  \n",
        "    result += num\n",
        "    return result\n",
        "\n",
        "print(adder(3)) \n",
        "print(adder(4)) \n"
      ]
    },
    {
      "cell_type": "code",
      "source": [
        "result1 = 0\n",
        "result2 = 0\n",
        "\n",
        "def adder1(num):\n",
        "    global result1\n",
        "    result1 += num\n",
        "    return result1\n",
        "\n",
        "def adder2(num):\n",
        "    global result2\n",
        "    result2 += num\n",
        "    return result2\n",
        "\n",
        "print(adder1(3))\n",
        "print(adder1(4))\n",
        "print(adder2(4))\n",
        "print(adder2(3))\n"
      ],
      "metadata": {
        "colab": {
          "base_uri": "https://localhost:8080/"
        },
        "id": "AV7F3YsZT5lZ",
        "outputId": "fd45f816-33cb-4739-cba5-c4b8e53807bd"
      },
      "execution_count": 3,
      "outputs": [
        {
          "output_type": "stream",
          "name": "stdout",
          "text": [
            "3\n",
            "7\n",
            "4\n",
            "7\n"
          ]
        }
      ]
    },
    {
      "cell_type": "code",
      "source": [
        "class Calculator:        \n",
        "    def __init__(self):  \n",
        "        self.result = 0 \n",
        "    def adder(self, num): \n",
        "        self.result += num\n",
        "        return self.result\n",
        "    \n",
        "cal1 = Calculator()  \n",
        "cal2 = Calculator()\n",
        "print(cal1.adder(3))\n",
        "print(cal1.adder(4))\n",
        "print(cal2.adder(3))\n",
        "print(cal2.adder(7))"
      ],
      "metadata": {
        "colab": {
          "base_uri": "https://localhost:8080/"
        },
        "id": "eilZvUvQT-Cy",
        "outputId": "e3edd93a-007c-4cb6-f1d8-fccc9ef4b7cf"
      },
      "execution_count": 4,
      "outputs": [
        {
          "output_type": "stream",
          "name": "stdout",
          "text": [
            "3\n",
            "7\n",
            "3\n",
            "10\n"
          ]
        }
      ]
    },
    {
      "cell_type": "code",
      "source": [
        "print(cal1.adder(120))"
      ],
      "metadata": {
        "colab": {
          "base_uri": "https://localhost:8080/"
        },
        "id": "ueXfuUqyUKYv",
        "outputId": "c116b985-496a-4ef7-d73c-e88b867a422c"
      },
      "execution_count": 5,
      "outputs": [
        {
          "output_type": "stream",
          "name": "stdout",
          "text": [
            "127\n"
          ]
        }
      ]
    },
    {
      "cell_type": "code",
      "source": [
        "class Calculator:        \n",
        "    def __init__(self):  \n",
        "        self.result = 0\n",
        "    def adder(self, num): \n",
        "        self.result += num\n",
        "        return self.result\n",
        "    def reset(self):\n",
        "        self.result = 0\n",
        "        return self.result"
      ],
      "metadata": {
        "id": "XqiICsmeUNRa"
      },
      "execution_count": 6,
      "outputs": []
    },
    {
      "cell_type": "code",
      "source": [
        "cal3 = Calculator()\n",
        "print(cal3.adder(10))\n",
        "print(cal3.reset())"
      ],
      "metadata": {
        "colab": {
          "base_uri": "https://localhost:8080/"
        },
        "id": "YSlcvZ2uUWVh",
        "outputId": "3d2d425c-ac7b-4ea9-d4eb-e8bd27209c28"
      },
      "execution_count": 7,
      "outputs": [
        {
          "output_type": "stream",
          "name": "stdout",
          "text": [
            "10\n",
            "0\n"
          ]
        }
      ]
    },
    {
      "cell_type": "code",
      "source": [
        "class Service:\n",
        "    secret = \"클래스 변수는 어디에 쓰는 것인가? 클래스를 설명할 때 쓰는 것인가?\"\n",
        "    \n",
        "   \n",
        "\n",
        "s = Service()\n",
        "\n",
        "s.secret"
      ],
      "metadata": {
        "colab": {
          "base_uri": "https://localhost:8080/",
          "height": 36
        },
        "id": "GgJ2luNFUZO6",
        "outputId": "4aea3a83-5057-4ed1-eb07-d21f0aaa3234"
      },
      "execution_count": 8,
      "outputs": [
        {
          "output_type": "execute_result",
          "data": {
            "text/plain": [
              "'클래스 변수는 어디에 쓰는 것인가? 클래스를 설명할 때 쓰는 것인가?'"
            ],
            "application/vnd.google.colaboratory.intrinsic+json": {
              "type": "string"
            }
          },
          "metadata": {},
          "execution_count": 8
        }
      ]
    },
    {
      "cell_type": "code",
      "source": [
        "s2 = Service()\n",
        "s2.secret"
      ],
      "metadata": {
        "colab": {
          "base_uri": "https://localhost:8080/",
          "height": 36
        },
        "id": "ubcU7HJGUfwQ",
        "outputId": "0011040b-315b-4806-9287-ee407f24db22"
      },
      "execution_count": 9,
      "outputs": [
        {
          "output_type": "execute_result",
          "data": {
            "text/plain": [
              "'클래스 변수는 어디에 쓰는 것인가? 클래스를 설명할 때 쓰는 것인가?'"
            ],
            "application/vnd.google.colaboratory.intrinsic+json": {
              "type": "string"
            }
          },
          "metadata": {},
          "execution_count": 9
        }
      ]
    },
    {
      "cell_type": "code",
      "source": [
        "Service.secret"
      ],
      "metadata": {
        "colab": {
          "base_uri": "https://localhost:8080/",
          "height": 36
        },
        "id": "9an7OEAAUjMV",
        "outputId": "f570da18-697f-4508-c34e-4158145feb04"
      },
      "execution_count": 10,
      "outputs": [
        {
          "output_type": "execute_result",
          "data": {
            "text/plain": [
              "'클래스 변수는 어디에 쓰는 것인가? 클래스를 설명할 때 쓰는 것인가?'"
            ],
            "application/vnd.google.colaboratory.intrinsic+json": {
              "type": "string"
            }
          },
          "metadata": {},
          "execution_count": 10
        }
      ]
    },
    {
      "cell_type": "code",
      "source": [
        "class Service:\n",
        "    secret = \"지구는 4006년에 멸망한다.\"\n",
        "    def sum(self, a, b):      \n",
        "        result = a + b\n",
        "        print(\"%s + %s = %s이다.\" %(a, b, result))\n",
        "\n",
        "an = Service()\n",
        "\n",
        "an.sum(1,1)"
      ],
      "metadata": {
        "colab": {
          "base_uri": "https://localhost:8080/"
        },
        "id": "B6r9yWxoUrbw",
        "outputId": "e92c8260-ef3a-4aa5-8748-cfc4532e32a0"
      },
      "execution_count": 11,
      "outputs": [
        {
          "output_type": "stream",
          "name": "stdout",
          "text": [
            "1 + 1 = 2이다.\n"
          ]
        }
      ]
    },
    {
      "cell_type": "code",
      "source": [
        "class Service:\n",
        "    secret = \"지구는 4006년에 멸망한다.\"\n",
        "    def setname(self, name):  \n",
        "        self.name = name\n",
        "    def sum(self, a, b):\n",
        "        result = a + b\n",
        "        print(\"%s님, %s + %s = %s입니다.\" %(self.name, a, b, result))\n",
        "\n",
        "an = Service()\n",
        "an.setname(\"박달도사\")\n",
        "an.sum(1,1)"
      ],
      "metadata": {
        "colab": {
          "base_uri": "https://localhost:8080/"
        },
        "id": "as4liTBjVTII",
        "outputId": "32f0dbe6-3255-4039-e54f-0912906c324a"
      },
      "execution_count": 12,
      "outputs": [
        {
          "output_type": "stream",
          "name": "stdout",
          "text": [
            "박달도사님, 1 + 1 = 2입니다.\n"
          ]
        }
      ]
    },
    {
      "cell_type": "code",
      "source": [
        "lee = Service()\n",
        "lee.sum(1,1)\n"
      ],
      "metadata": {
        "colab": {
          "base_uri": "https://localhost:8080/",
          "height": 313
        },
        "id": "StV0KFNqVXh1",
        "outputId": "36d7c67e-2a2c-48c8-eb28-20a290513974"
      },
      "execution_count": 13,
      "outputs": [
        {
          "output_type": "error",
          "ename": "AttributeError",
          "evalue": "ignored",
          "traceback": [
            "\u001b[0;31m---------------------------------------------------------------------------\u001b[0m",
            "\u001b[0;31mAttributeError\u001b[0m                            Traceback (most recent call last)",
            "\u001b[0;32m<ipython-input-13-af3d11e1d066>\u001b[0m in \u001b[0;36m<cell line: 2>\u001b[0;34m()\u001b[0m\n\u001b[1;32m      1\u001b[0m \u001b[0mlee\u001b[0m \u001b[0;34m=\u001b[0m \u001b[0mService\u001b[0m\u001b[0;34m(\u001b[0m\u001b[0;34m)\u001b[0m\u001b[0;34m\u001b[0m\u001b[0;34m\u001b[0m\u001b[0m\n\u001b[0;32m----> 2\u001b[0;31m \u001b[0mlee\u001b[0m\u001b[0;34m.\u001b[0m\u001b[0msum\u001b[0m\u001b[0;34m(\u001b[0m\u001b[0;36m1\u001b[0m\u001b[0;34m,\u001b[0m\u001b[0;36m1\u001b[0m\u001b[0;34m)\u001b[0m\u001b[0;34m\u001b[0m\u001b[0;34m\u001b[0m\u001b[0m\n\u001b[0m",
            "\u001b[0;32m<ipython-input-12-00d0ebca7027>\u001b[0m in \u001b[0;36msum\u001b[0;34m(self, a, b)\u001b[0m\n\u001b[1;32m      5\u001b[0m     \u001b[0;32mdef\u001b[0m \u001b[0msum\u001b[0m\u001b[0;34m(\u001b[0m\u001b[0mself\u001b[0m\u001b[0;34m,\u001b[0m \u001b[0ma\u001b[0m\u001b[0;34m,\u001b[0m \u001b[0mb\u001b[0m\u001b[0;34m)\u001b[0m\u001b[0;34m:\u001b[0m\u001b[0;34m\u001b[0m\u001b[0;34m\u001b[0m\u001b[0m\n\u001b[1;32m      6\u001b[0m         \u001b[0mresult\u001b[0m \u001b[0;34m=\u001b[0m \u001b[0ma\u001b[0m \u001b[0;34m+\u001b[0m \u001b[0mb\u001b[0m\u001b[0;34m\u001b[0m\u001b[0;34m\u001b[0m\u001b[0m\n\u001b[0;32m----> 7\u001b[0;31m         \u001b[0mprint\u001b[0m\u001b[0;34m(\u001b[0m\u001b[0;34m\"%s님, %s + %s = %s입니다.\"\u001b[0m \u001b[0;34m%\u001b[0m\u001b[0;34m(\u001b[0m\u001b[0mself\u001b[0m\u001b[0;34m.\u001b[0m\u001b[0mname\u001b[0m\u001b[0;34m,\u001b[0m \u001b[0ma\u001b[0m\u001b[0;34m,\u001b[0m \u001b[0mb\u001b[0m\u001b[0;34m,\u001b[0m \u001b[0mresult\u001b[0m\u001b[0;34m)\u001b[0m\u001b[0;34m)\u001b[0m\u001b[0;34m\u001b[0m\u001b[0;34m\u001b[0m\u001b[0m\n\u001b[0m\u001b[1;32m      8\u001b[0m \u001b[0;34m\u001b[0m\u001b[0m\n\u001b[1;32m      9\u001b[0m \u001b[0man\u001b[0m \u001b[0;34m=\u001b[0m \u001b[0mService\u001b[0m\u001b[0;34m(\u001b[0m\u001b[0;34m)\u001b[0m\u001b[0;34m\u001b[0m\u001b[0;34m\u001b[0m\u001b[0m\n",
            "\u001b[0;31mAttributeError\u001b[0m: 'Service' object has no attribute 'name'"
          ]
        }
      ]
    },
    {
      "cell_type": "code",
      "source": [
        "class Service:\n",
        "    secret = \"exhausted\"\n",
        "    def __init__(self, name):\n",
        "        self.name = name     \n",
        "    def sum(self, a, b):\n",
        "        result = a + b\n",
        "        print(\"%s님, %s + %s = %s입니다.\" %(self.name, a, b, result))"
      ],
      "metadata": {
        "id": "sPm92jrjVdFI"
      },
      "execution_count": 14,
      "outputs": []
    },
    {
      "cell_type": "code",
      "source": [
        "an = Service(\"박달도사\")\n",
        "an.sum(1,1)"
      ],
      "metadata": {
        "colab": {
          "base_uri": "https://localhost:8080/"
        },
        "id": "xjyYdeEWVheo",
        "outputId": "68653bb8-039b-4d66-d1eb-9bef3e1a107e"
      },
      "execution_count": 15,
      "outputs": [
        {
          "output_type": "stream",
          "name": "stdout",
          "text": [
            "박달도사님, 1 + 1 = 2입니다.\n"
          ]
        }
      ]
    },
    {
      "cell_type": "code",
      "source": [
        "an = Service()\n"
      ],
      "metadata": {
        "colab": {
          "base_uri": "https://localhost:8080/",
          "height": 170
        },
        "id": "BVQw7p33Vii0",
        "outputId": "5b58cbc5-c2e1-40ce-8bb1-ebdaff80810d"
      },
      "execution_count": 16,
      "outputs": [
        {
          "output_type": "error",
          "ename": "TypeError",
          "evalue": "ignored",
          "traceback": [
            "\u001b[0;31m---------------------------------------------------------------------------\u001b[0m",
            "\u001b[0;31mTypeError\u001b[0m                                 Traceback (most recent call last)",
            "\u001b[0;32m<ipython-input-16-1695b6ec2ea2>\u001b[0m in \u001b[0;36m<cell line: 1>\u001b[0;34m()\u001b[0m\n\u001b[0;32m----> 1\u001b[0;31m \u001b[0man\u001b[0m \u001b[0;34m=\u001b[0m \u001b[0mService\u001b[0m\u001b[0;34m(\u001b[0m\u001b[0;34m)\u001b[0m\u001b[0;34m\u001b[0m\u001b[0;34m\u001b[0m\u001b[0m\n\u001b[0m",
            "\u001b[0;31mTypeError\u001b[0m: Service.__init__() missing 1 required positional argument: 'name'"
          ]
        }
      ]
    },
    {
      "cell_type": "code",
      "source": [
        "class FourCal:\n",
        "    pass\n",
        "\n",
        "a = FourCal()\n",
        "type(a)\n"
      ],
      "metadata": {
        "colab": {
          "base_uri": "https://localhost:8080/"
        },
        "id": "guo_v4RBVnhz",
        "outputId": "ad5b11ab-cdd6-480a-8a64-128da81626ab"
      },
      "execution_count": 17,
      "outputs": [
        {
          "output_type": "execute_result",
          "data": {
            "text/plain": [
              "__main__.FourCal"
            ]
          },
          "metadata": {},
          "execution_count": 17
        }
      ]
    },
    {
      "cell_type": "code",
      "source": [
        "class FourCal:\n",
        "    def setdata(self, first, second):\n",
        "        self.first = first\n",
        "        self.second = second\n",
        "        \n",
        "a = FourCal()\n",
        "a.setdata(4,2)\n",
        "\n",
        "print(a.first)\n",
        "print(a.second)\n"
      ],
      "metadata": {
        "colab": {
          "base_uri": "https://localhost:8080/"
        },
        "id": "JodLOwC5VrTe",
        "outputId": "d015e11e-213e-478c-b042-d8e8fa93f9f5"
      },
      "execution_count": 18,
      "outputs": [
        {
          "output_type": "stream",
          "name": "stdout",
          "text": [
            "4\n",
            "2\n"
          ]
        }
      ]
    },
    {
      "cell_type": "code",
      "source": [
        "class FourCal:\n",
        "    def setdata(self, first, second):\n",
        "        self.first = first\n",
        "        self.second = second\n",
        "    def sum(self):\n",
        "        result = self.first + self.second\n",
        "        return result\n",
        "        \n",
        "a = FourCal()\n",
        "a.setdata(4,2)\n",
        "\n",
        "print(a.first)\n",
        "print(a.second)\n",
        "print(a.sum())\n"
      ],
      "metadata": {
        "colab": {
          "base_uri": "https://localhost:8080/"
        },
        "id": "Ph9C-rl_Vujk",
        "outputId": "0abcf9cf-0a58-4492-ed5e-d827122413dc"
      },
      "execution_count": 19,
      "outputs": [
        {
          "output_type": "stream",
          "name": "stdout",
          "text": [
            "4\n",
            "2\n",
            "6\n"
          ]
        }
      ]
    },
    {
      "cell_type": "code",
      "source": [
        "class FourCal:\n",
        "    def setdata(self, first, second):\n",
        "        self.first = first\n",
        "        self.second = second\n",
        "    def sum(self):\n",
        "        result = self.first + self.second\n",
        "        return result\n",
        "    def mul(self):\n",
        "        result = self.first * self.second\n",
        "        return result\n",
        "    def sub(self):\n",
        "        result = self.first - self.second\n",
        "        return result\n",
        "    def div(self):\n",
        "        result = self.first / self.second\n",
        "        return result\n",
        "\n",
        "a = FourCal()\n",
        "a.setdata(4,2)\n",
        "\n",
        "print(a.sum())\n",
        "print(a.mul())\n",
        "print(a.sub())\n",
        "print(a.div())\n"
      ],
      "metadata": {
        "colab": {
          "base_uri": "https://localhost:8080/"
        },
        "id": "oUPotGdyVvz1",
        "outputId": "43c689a9-75aa-43ab-d707-39d7422d2e69"
      },
      "execution_count": 20,
      "outputs": [
        {
          "output_type": "stream",
          "name": "stdout",
          "text": [
            "6\n",
            "8\n",
            "2\n",
            "2.0\n"
          ]
        }
      ]
    },
    {
      "cell_type": "code",
      "source": [
        "class FourCal:\n",
        "    def __init__(self, first, second):\n",
        "        self.first = first\n",
        "        self.second = second\n",
        "    def sum(self):\n",
        "        result = self.first + self.second\n",
        "        return result\n",
        "    def mul(self):\n",
        "        result = self.first * self.second\n",
        "        return result\n",
        "    def sub(self):\n",
        "        result = self.first - self.second\n",
        "        return result\n",
        "    def div(self):\n",
        "        result = self.first / self.second\n",
        "        return result\n",
        "\n",
        "a = FourCal(8,2)\n",
        "\n",
        "print(a.sum())\n",
        "print(a.mul())\n",
        "print(a.sub())\n",
        "print(a.div())\n"
      ],
      "metadata": {
        "colab": {
          "base_uri": "https://localhost:8080/"
        },
        "id": "kx0dQrRcVyYS",
        "outputId": "82d9b1c2-ad5b-4128-e8c4-af470323c3bf"
      },
      "execution_count": 21,
      "outputs": [
        {
          "output_type": "stream",
          "name": "stdout",
          "text": [
            "10\n",
            "16\n",
            "6\n",
            "4.0\n"
          ]
        }
      ]
    }
  ]
}