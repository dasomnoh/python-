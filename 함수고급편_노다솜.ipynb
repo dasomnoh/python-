{
  "nbformat": 4,
  "nbformat_minor": 0,
  "metadata": {
    "colab": {
      "provenance": [],
      "authorship_tag": "ABX9TyN4pqVp6s+WcvV+pNGD14U4",
      "include_colab_link": true
    },
    "kernelspec": {
      "name": "python3",
      "display_name": "Python 3"
    },
    "language_info": {
      "name": "python"
    }
  },
  "cells": [
    {
      "cell_type": "markdown",
      "metadata": {
        "id": "view-in-github",
        "colab_type": "text"
      },
      "source": [
        "<a href=\"https://colab.research.google.com/github/dasomnoh/python-/blob/main/%ED%95%A8%EC%88%98%EA%B3%A0%EA%B8%89%ED%8E%B8_%EB%85%B8%EB%8B%A4%EC%86%9C.ipynb\" target=\"_parent\"><img src=\"https://colab.research.google.com/assets/colab-badge.svg\" alt=\"Open In Colab\"/></a>"
      ]
    },
    {
      "cell_type": "code",
      "execution_count": 1,
      "metadata": {
        "colab": {
          "base_uri": "https://localhost:8080/"
        },
        "id": "7J-EjLemMuvD",
        "outputId": "720bb53b-037d-4f32-b4bf-d74312ec00ce"
      },
      "outputs": [
        {
          "output_type": "stream",
          "name": "stdout",
          "text": [
            "[2, 3, 4]\n"
          ]
        }
      ],
      "source": [
        "a = []\n",
        "for i in [1,2,3]:\n",
        "    a.append(i+1)\n",
        "print(a)"
      ]
    },
    {
      "cell_type": "code",
      "source": [
        "b = [i+1 for i in [1,2,3]]\n",
        "print(b)\n"
      ],
      "metadata": {
        "colab": {
          "base_uri": "https://localhost:8080/"
        },
        "id": "ox5VH62RNzFA",
        "outputId": "b73995fb-dd33-44f9-f14d-eb5798425015"
      },
      "execution_count": 2,
      "outputs": [
        {
          "output_type": "stream",
          "name": "stdout",
          "text": [
            "[2, 3, 4]\n"
          ]
        }
      ]
    },
    {
      "cell_type": "code",
      "source": [
        "def calcul(i):\n",
        "    c = i**2+3\n",
        "    return c"
      ],
      "metadata": {
        "id": "-jGCWFbcOF5-"
      },
      "execution_count": 4,
      "outputs": []
    },
    {
      "cell_type": "code",
      "source": [
        "d = [calcul(i) for i in [1,2,3]]\n",
        "print(d)"
      ],
      "metadata": {
        "colab": {
          "base_uri": "https://localhost:8080/"
        },
        "id": "A_RmvMPyOGoA",
        "outputId": "405bd649-2f46-4a3b-a479-e806ed8e971f"
      },
      "execution_count": 5,
      "outputs": [
        {
          "output_type": "stream",
          "name": "stdout",
          "text": [
            "[4, 7, 12]\n"
          ]
        }
      ]
    },
    {
      "cell_type": "code",
      "source": [
        "e = [i+1 for i in [1,2,3] if i%2==0]\n",
        "print(e)"
      ],
      "metadata": {
        "colab": {
          "base_uri": "https://localhost:8080/"
        },
        "id": "K1jkc9zzOMg6",
        "outputId": "5ff74209-24c2-407d-c9fc-97c7e5f04541"
      },
      "execution_count": 6,
      "outputs": [
        {
          "output_type": "stream",
          "name": "stdout",
          "text": [
            "[3]\n"
          ]
        }
      ]
    },
    {
      "cell_type": "code",
      "source": [
        "f = []\n",
        "for i in [1,2,3]:\n",
        "    if i%2 == 0:\n",
        "        f.append(i+1)\n",
        "print(f)"
      ],
      "metadata": {
        "colab": {
          "base_uri": "https://localhost:8080/"
        },
        "id": "5B3jwiiPOQDR",
        "outputId": "3b22e7e2-6f63-49dc-883b-c4296f3289b6"
      },
      "execution_count": 7,
      "outputs": [
        {
          "output_type": "stream",
          "name": "stdout",
          "text": [
            "[3]\n"
          ]
        }
      ]
    },
    {
      "cell_type": "code",
      "source": [
        "number_list = []\n",
        "number_list.append(1)\n",
        "number_list.append(2)\n",
        "number_list.append(3)\n",
        "number_list.append(4)\n",
        "number_list.append(5)\n",
        "number_list\n"
      ],
      "metadata": {
        "colab": {
          "base_uri": "https://localhost:8080/"
        },
        "id": "TCpuYYoYOVSB",
        "outputId": "fdb178fc-60c2-4a12-da64-8bf727e8342b"
      },
      "execution_count": 8,
      "outputs": [
        {
          "output_type": "execute_result",
          "data": {
            "text/plain": [
              "[1, 2, 3, 4, 5]"
            ]
          },
          "metadata": {},
          "execution_count": 8
        }
      ]
    },
    {
      "cell_type": "code",
      "source": [
        "number_list=[]\n",
        "for number in range(1,6):\n",
        "    number_list.append(number)\n",
        "number_list"
      ],
      "metadata": {
        "colab": {
          "base_uri": "https://localhost:8080/"
        },
        "id": "G48IriTpOZ0l",
        "outputId": "6106219f-224e-4a7c-ede3-7b78817b9b2b"
      },
      "execution_count": 9,
      "outputs": [
        {
          "output_type": "execute_result",
          "data": {
            "text/plain": [
              "[1, 2, 3, 4, 5]"
            ]
          },
          "metadata": {},
          "execution_count": 9
        }
      ]
    },
    {
      "cell_type": "code",
      "source": [
        "number_list = list(range(1,6))\n",
        "number_list"
      ],
      "metadata": {
        "colab": {
          "base_uri": "https://localhost:8080/"
        },
        "id": "WXkjtVU3Ocfi",
        "outputId": "a6d42e80-9144-4710-cbe8-e5894246d914"
      },
      "execution_count": 10,
      "outputs": [
        {
          "output_type": "execute_result",
          "data": {
            "text/plain": [
              "[1, 2, 3, 4, 5]"
            ]
          },
          "metadata": {},
          "execution_count": 10
        }
      ]
    },
    {
      "cell_type": "code",
      "source": [
        "number_list = [number for number in range(1,6)]\n",
        "number_list\n"
      ],
      "metadata": {
        "colab": {
          "base_uri": "https://localhost:8080/"
        },
        "id": "9N6-tqAAOfpu",
        "outputId": "c6ae2880-9690-4b32-9f49-8de28cdf7f95"
      },
      "execution_count": 11,
      "outputs": [
        {
          "output_type": "execute_result",
          "data": {
            "text/plain": [
              "[1, 2, 3, 4, 5]"
            ]
          },
          "metadata": {},
          "execution_count": 11
        }
      ]
    },
    {
      "cell_type": "code",
      "source": [
        "number_list = [number-1 for number in range(1,6)]\n",
        "number_list"
      ],
      "metadata": {
        "colab": {
          "base_uri": "https://localhost:8080/"
        },
        "id": "VEBC2wxoOiHX",
        "outputId": "969e99a1-5cbd-46b3-f689-de1b308a53df"
      },
      "execution_count": 12,
      "outputs": [
        {
          "output_type": "execute_result",
          "data": {
            "text/plain": [
              "[0, 1, 2, 3, 4]"
            ]
          },
          "metadata": {},
          "execution_count": 12
        }
      ]
    },
    {
      "cell_type": "code",
      "source": [
        "a_list = [number for number in range(1,6) if number % 2 ==1]\n",
        "a_list"
      ],
      "metadata": {
        "colab": {
          "base_uri": "https://localhost:8080/"
        },
        "id": "T3v8AKXwOkgN",
        "outputId": "2e56602b-0d80-4191-f81e-9cab213ce562"
      },
      "execution_count": 13,
      "outputs": [
        {
          "output_type": "execute_result",
          "data": {
            "text/plain": [
              "[1, 3, 5]"
            ]
          },
          "metadata": {},
          "execution_count": 13
        }
      ]
    },
    {
      "cell_type": "code",
      "source": [
        "a_list = []\n",
        "for number in range(1,6):\n",
        "    if number % 2 == 1:\n",
        "        a_list.append(number)\n",
        "a_list\n"
      ],
      "metadata": {
        "colab": {
          "base_uri": "https://localhost:8080/"
        },
        "id": "TYJgjTojOnfP",
        "outputId": "aec2dcc6-22cb-4af8-d9ba-05e81a0e37fc"
      },
      "execution_count": 14,
      "outputs": [
        {
          "output_type": "execute_result",
          "data": {
            "text/plain": [
              "[1, 3, 5]"
            ]
          },
          "metadata": {},
          "execution_count": 14
        }
      ]
    },
    {
      "cell_type": "code",
      "source": [
        "sentence = ['I', 'Love', 'Python', 'Soooooo', 'MUCH!!!']"
      ],
      "metadata": {
        "id": "a8EFsUIQPFFC"
      },
      "execution_count": 18,
      "outputs": []
    },
    {
      "cell_type": "code",
      "source": [
        "[word.lower() for word in sentence]"
      ],
      "metadata": {
        "colab": {
          "base_uri": "https://localhost:8080/"
        },
        "id": "DvFcWvOGPfnC",
        "outputId": "1c200e55-a600-40ef-e386-255f8e977d5e"
      },
      "execution_count": 19,
      "outputs": [
        {
          "output_type": "execute_result",
          "data": {
            "text/plain": [
              "['i', 'love', 'python', 'soooooo', 'much!!!']"
            ]
          },
          "metadata": {},
          "execution_count": 19
        }
      ]
    },
    {
      "cell_type": "code",
      "source": [
        "[word.upper() for word in sentence if len(word) > 6]"
      ],
      "metadata": {
        "colab": {
          "base_uri": "https://localhost:8080/"
        },
        "id": "EiPkD8TBPqvW",
        "outputId": "9fc6a5e2-32dd-489d-cb2b-686a8082796b"
      },
      "execution_count": 20,
      "outputs": [
        {
          "output_type": "execute_result",
          "data": {
            "text/plain": [
              "['SOOOOOO', 'MUCH!!!']"
            ]
          },
          "metadata": {},
          "execution_count": 20
        }
      ]
    },
    {
      "cell_type": "code",
      "source": [
        "[(x,x**2,x**3) for x in range(10)]"
      ],
      "metadata": {
        "colab": {
          "base_uri": "https://localhost:8080/"
        },
        "id": "xuP2_vsYPygR",
        "outputId": "3d2622dc-7c3e-4793-ee07-d18346ac17bc"
      },
      "execution_count": 21,
      "outputs": [
        {
          "output_type": "execute_result",
          "data": {
            "text/plain": [
              "[(0, 0, 0),\n",
              " (1, 1, 1),\n",
              " (2, 4, 8),\n",
              " (3, 9, 27),\n",
              " (4, 16, 64),\n",
              " (5, 25, 125),\n",
              " (6, 36, 216),\n",
              " (7, 49, 343),\n",
              " (8, 64, 512),\n",
              " (9, 81, 729)]"
            ]
          },
          "metadata": {},
          "execution_count": 21
        }
      ]
    },
    {
      "cell_type": "code",
      "source": [
        "list(range(10))"
      ],
      "metadata": {
        "colab": {
          "base_uri": "https://localhost:8080/"
        },
        "id": "I0acUYG4P1SZ",
        "outputId": "75a7db2d-fe02-4141-8f69-7170dd7c5112"
      },
      "execution_count": 22,
      "outputs": [
        {
          "output_type": "execute_result",
          "data": {
            "text/plain": [
              "[0, 1, 2, 3, 4, 5, 6, 7, 8, 9]"
            ]
          },
          "metadata": {},
          "execution_count": 22
        }
      ]
    },
    {
      "cell_type": "code",
      "source": [
        "rows = range(1,4)\n",
        "cols = range(1,3)\n",
        "for row in rows:\n",
        "    for col in cols:\n",
        "        print(row, col)"
      ],
      "metadata": {
        "colab": {
          "base_uri": "https://localhost:8080/"
        },
        "id": "yjXO0VCbP2Xl",
        "outputId": "d0a17d9f-9ed4-49d4-af97-5f7c047408e8"
      },
      "execution_count": 23,
      "outputs": [
        {
          "output_type": "stream",
          "name": "stdout",
          "text": [
            "1 1\n",
            "1 2\n",
            "2 1\n",
            "2 2\n",
            "3 1\n",
            "3 2\n"
          ]
        }
      ]
    },
    {
      "cell_type": "code",
      "source": [
        "rows = range(1,4)\n",
        "cols = range(1,3)\n",
        "cells = [(row,col) for row in rows for col in cols]\n",
        "for cell in cells:\n",
        "    print(cell)\n",
        "print('------')\n",
        "print(cells)"
      ],
      "metadata": {
        "colab": {
          "base_uri": "https://localhost:8080/"
        },
        "id": "GMB83_8-P61Q",
        "outputId": "d26538c7-0255-410e-fd5c-789d0a64b740"
      },
      "execution_count": 24,
      "outputs": [
        {
          "output_type": "stream",
          "name": "stdout",
          "text": [
            "(1, 1)\n",
            "(1, 2)\n",
            "(2, 1)\n",
            "(2, 2)\n",
            "(3, 1)\n",
            "(3, 2)\n",
            "------\n",
            "[(1, 1), (1, 2), (2, 1), (2, 2), (3, 1), (3, 2)]\n"
          ]
        }
      ]
    },
    {
      "cell_type": "code",
      "source": [
        "[(i,j) for i in range(5) for j in range(i)] "
      ],
      "metadata": {
        "colab": {
          "base_uri": "https://localhost:8080/"
        },
        "id": "7ihYsSNQP9fl",
        "outputId": "501226e4-5f61-4535-d595-92cbceec2f49"
      },
      "execution_count": 25,
      "outputs": [
        {
          "output_type": "execute_result",
          "data": {
            "text/plain": [
              "[(1, 0),\n",
              " (2, 0),\n",
              " (2, 1),\n",
              " (3, 0),\n",
              " (3, 1),\n",
              " (3, 2),\n",
              " (4, 0),\n",
              " (4, 1),\n",
              " (4, 2),\n",
              " (4, 3)]"
            ]
          },
          "metadata": {},
          "execution_count": 25
        }
      ]
    },
    {
      "cell_type": "code",
      "source": [
        "word = 'letters'\n",
        "for letter in word:\n",
        "  print(letter)"
      ],
      "metadata": {
        "colab": {
          "base_uri": "https://localhost:8080/"
        },
        "id": "JmJ63WLtQU40",
        "outputId": "327d61af-5b84-4b74-e0c8-8d9643b7e7c0"
      },
      "execution_count": 37,
      "outputs": [
        {
          "output_type": "stream",
          "name": "stdout",
          "text": [
            "l\n",
            "e\n",
            "t\n",
            "t\n",
            "e\n",
            "r\n",
            "s\n"
          ]
        }
      ]
    },
    {
      "cell_type": "code",
      "source": [
        "word.count('tt')"
      ],
      "metadata": {
        "colab": {
          "base_uri": "https://localhost:8080/"
        },
        "id": "S_qHOC1jRFSj",
        "outputId": "ea27ef66-c6cb-42f7-e003-bf1465a5335b"
      },
      "execution_count": 38,
      "outputs": [
        {
          "output_type": "execute_result",
          "data": {
            "text/plain": [
              "1"
            ]
          },
          "metadata": {},
          "execution_count": 38
        }
      ]
    },
    {
      "cell_type": "code",
      "source": [
        "word.count('e')"
      ],
      "metadata": {
        "colab": {
          "base_uri": "https://localhost:8080/"
        },
        "id": "j1L3BtBpRsSx",
        "outputId": "6a19297d-9178-4ba0-a687-2562267bdfc8"
      },
      "execution_count": 39,
      "outputs": [
        {
          "output_type": "execute_result",
          "data": {
            "text/plain": [
              "2"
            ]
          },
          "metadata": {},
          "execution_count": 39
        }
      ]
    },
    {
      "cell_type": "code",
      "source": [
        "word = 'letters'\n",
        "letter_counts = {letter:word.count(letter) for letter in word}\n",
        "letter_counts"
      ],
      "metadata": {
        "colab": {
          "base_uri": "https://localhost:8080/"
        },
        "id": "i9UdvLAfRxIX",
        "outputId": "ab76b029-8d8e-4557-bc61-b7eb7855321f"
      },
      "execution_count": 40,
      "outputs": [
        {
          "output_type": "execute_result",
          "data": {
            "text/plain": [
              "{'l': 1, 'e': 2, 't': 2, 'r': 1, 's': 1}"
            ]
          },
          "metadata": {},
          "execution_count": 40
        }
      ]
    },
    {
      "cell_type": "code",
      "source": [
        "set(word)"
      ],
      "metadata": {
        "colab": {
          "base_uri": "https://localhost:8080/"
        },
        "id": "4huu2RSlR0Ge",
        "outputId": "c4e9fd7a-7069-4e72-b050-ffe335dacd06"
      },
      "execution_count": 41,
      "outputs": [
        {
          "output_type": "execute_result",
          "data": {
            "text/plain": [
              "{'e', 'l', 'r', 's', 't'}"
            ]
          },
          "metadata": {},
          "execution_count": 41
        }
      ]
    },
    {
      "cell_type": "code",
      "source": [
        "a_set = {number for number in range(1,6) if number % 3 ==1}\n",
        "a_set"
      ],
      "metadata": {
        "colab": {
          "base_uri": "https://localhost:8080/"
        },
        "id": "k6xNS1I4R48i",
        "outputId": "b4167b03-f9b9-4745-c693-e63840fe839f"
      },
      "execution_count": 42,
      "outputs": [
        {
          "output_type": "execute_result",
          "data": {
            "text/plain": [
              "{1, 4}"
            ]
          },
          "metadata": {},
          "execution_count": 42
        }
      ]
    },
    {
      "cell_type": "code",
      "source": [
        "days = ['Monday', 'Tuesday', 'Wednesday']\n",
        "fruits = ['banna', 'orange', 'peach']\n",
        "drinks = ['coffee', 'tea', 'beer']\n",
        "desserts = ['tiramisu', 'ice cream', 'pie', 'pudding']\n",
        "\n",
        "list(zip(days, fruits, drinks, desserts))"
      ],
      "metadata": {
        "colab": {
          "base_uri": "https://localhost:8080/"
        },
        "id": "xYoPDvD-R7eF",
        "outputId": "9a31fb27-69bb-46be-b8e1-dc28002efce4"
      },
      "execution_count": 43,
      "outputs": [
        {
          "output_type": "execute_result",
          "data": {
            "text/plain": [
              "[('Monday', 'banna', 'coffee', 'tiramisu'),\n",
              " ('Tuesday', 'orange', 'tea', 'ice cream'),\n",
              " ('Wednesday', 'peach', 'beer', 'pie')]"
            ]
          },
          "metadata": {},
          "execution_count": 43
        }
      ]
    },
    {
      "cell_type": "code",
      "source": [
        "for day, fruit, drink, dessert in zip(days, fruits, drinks, desserts):\n",
        "    print(day, \":drink\", drink, \"- eat\", fruit, \"- enjoy\", dessert)"
      ],
      "metadata": {
        "colab": {
          "base_uri": "https://localhost:8080/"
        },
        "id": "dhFO2l3qR_2A",
        "outputId": "7fecc625-be27-41d6-b5fc-8e9656d44224"
      },
      "execution_count": 44,
      "outputs": [
        {
          "output_type": "stream",
          "name": "stdout",
          "text": [
            "Monday :drink coffee - eat banna - enjoy tiramisu\n",
            "Tuesday :drink tea - eat orange - enjoy ice cream\n",
            "Wednesday :drink beer - eat peach - enjoy pie\n"
          ]
        }
      ]
    },
    {
      "cell_type": "code",
      "source": [
        "english = 'Monday', 'Tuesday', 'Wednesday'\n",
        "\n",
        "french = 'Lundi', 'Mardi', 'Mercredi'\n",
        "\n",
        "list(zip(english, french))\n",
        "#[('Monday','Lundi'),('Tuesday','Mardi'),('Wednesday','Mercredi')]\n",
        "dict(zip(english,french))\n",
        "#{'Monday':'Lundi','Tuesday':'Mardi','Wednesday':'Mercredi'}"
      ],
      "metadata": {
        "colab": {
          "base_uri": "https://localhost:8080/"
        },
        "id": "GhwYTW07SCrh",
        "outputId": "5e91ee46-f2d0-4a45-c7b6-71111042db9f"
      },
      "execution_count": 45,
      "outputs": [
        {
          "output_type": "execute_result",
          "data": {
            "text/plain": [
              "{'Monday': 'Lundi', 'Tuesday': 'Mardi', 'Wednesday': 'Mercredi'}"
            ]
          },
          "metadata": {},
          "execution_count": 45
        }
      ]
    },
    {
      "cell_type": "code",
      "source": [
        "def menu(price, wine='chardonnay', entree='chicken', dessert = 'pudding'):\n",
        "    return{'price': price, 'wine': wine, 'entree': entree, 'dessert': dessert}\n",
        "\n",
        "\n",
        "print(menu(100))\n",
        "print(menu(price=100))\n",
        "print(menu(price=120, entree='beef'))\n",
        "print(menu(dessert='bager', price=110))\n",
        "print(menu('eighty', 'saint-pierre', 'fish'))\n",
        "print(menu('hundred', wine= 'saint-pierre'))"
      ],
      "metadata": {
        "colab": {
          "base_uri": "https://localhost:8080/"
        },
        "id": "DvFTHocCSGm1",
        "outputId": "c2dda4db-9f2b-43db-d704-5a044ccea900"
      },
      "execution_count": 46,
      "outputs": [
        {
          "output_type": "stream",
          "name": "stdout",
          "text": [
            "{'price': 100, 'wine': 'chardonnay', 'entree': 'chicken', 'dessert': 'pudding'}\n",
            "{'price': 100, 'wine': 'chardonnay', 'entree': 'chicken', 'dessert': 'pudding'}\n",
            "{'price': 120, 'wine': 'chardonnay', 'entree': 'beef', 'dessert': 'pudding'}\n",
            "{'price': 110, 'wine': 'chardonnay', 'entree': 'chicken', 'dessert': 'bager'}\n",
            "{'price': 'eighty', 'wine': 'saint-pierre', 'entree': 'fish', 'dessert': 'pudding'}\n",
            "{'price': 'hundred', 'wine': 'saint-pierre', 'entree': 'chicken', 'dessert': 'pudding'}\n"
          ]
        }
      ]
    },
    {
      "cell_type": "code",
      "source": [
        "def echo(anything):\n",
        "    'echo returns its input argumnet'\n",
        "    return anything\n",
        "\n",
        "def print_if_true(thing, check):\n",
        "    \"\"\"Print the first argumnet if a second argumnet is true.\n",
        "    The operation is:\n",
        "     1. Check whether the *second* argument is true.\n",
        "     2. If it is, print the *first* argument.\n",
        "    \"\"\"\n",
        "    if check:\n",
        "        print(thing)"
      ],
      "metadata": {
        "id": "wgit2cYxSbxo"
      },
      "execution_count": 47,
      "outputs": []
    },
    {
      "cell_type": "code",
      "source": [
        "help(echo)"
      ],
      "metadata": {
        "colab": {
          "base_uri": "https://localhost:8080/"
        },
        "id": "5HdwdoMPSfCb",
        "outputId": "0d37a074-ae54-45f6-a68d-54383dd69a6b"
      },
      "execution_count": 48,
      "outputs": [
        {
          "output_type": "stream",
          "name": "stdout",
          "text": [
            "Help on function echo in module __main__:\n",
            "\n",
            "echo(anything)\n",
            "    echo returns its input argumnet\n",
            "\n"
          ]
        }
      ]
    },
    {
      "cell_type": "code",
      "source": [
        "help(print_if_true)"
      ],
      "metadata": {
        "colab": {
          "base_uri": "https://localhost:8080/"
        },
        "id": "DNK4boOjSg_g",
        "outputId": "a6b2290c-bff0-4854-b1c5-2da654e96c76"
      },
      "execution_count": 49,
      "outputs": [
        {
          "output_type": "stream",
          "name": "stdout",
          "text": [
            "Help on function print_if_true in module __main__:\n",
            "\n",
            "print_if_true(thing, check)\n",
            "    Print the first argumnet if a second argumnet is true.\n",
            "    The operation is:\n",
            "     1. Check whether the *second* argument is true.\n",
            "     2. If it is, print the *first* argument.\n",
            "\n"
          ]
        }
      ]
    },
    {
      "cell_type": "code",
      "source": [
        "print_if_true('haha', False)"
      ],
      "metadata": {
        "id": "cGEKT_rESlv5"
      },
      "execution_count": 51,
      "outputs": []
    },
    {
      "cell_type": "code",
      "source": [
        "print_if_true('haha', True)"
      ],
      "metadata": {
        "colab": {
          "base_uri": "https://localhost:8080/"
        },
        "id": "kt1z2kCySqz0",
        "outputId": "eeb8ea8b-e237-4505-fcae-52af568c572d"
      },
      "execution_count": 50,
      "outputs": [
        {
          "output_type": "stream",
          "name": "stdout",
          "text": [
            "haha\n"
          ]
        }
      ]
    },
    {
      "cell_type": "code",
      "source": [
        "print_if_true('haha', 1==1)\n"
      ],
      "metadata": {
        "colab": {
          "base_uri": "https://localhost:8080/"
        },
        "id": "x1NUWO68Su9W",
        "outputId": "3b7ec61b-53b6-47ba-ce7e-571e5ed4a674"
      },
      "execution_count": 52,
      "outputs": [
        {
          "output_type": "stream",
          "name": "stdout",
          "text": [
            "haha\n"
          ]
        }
      ]
    },
    {
      "cell_type": "code",
      "source": [
        "print_if_true('haha', 1==2)"
      ],
      "metadata": {
        "id": "gDxPTrZ3Sz__"
      },
      "execution_count": 53,
      "outputs": []
    }
  ]
}