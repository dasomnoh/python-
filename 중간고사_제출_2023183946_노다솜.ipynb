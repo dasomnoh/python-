{
  "cells": [
    {
      "cell_type": "markdown",
      "metadata": {
        "id": "view-in-github",
        "colab_type": "text"
      },
      "source": [
        "<a href=\"https://colab.research.google.com/github/dasomnoh/python-/blob/main/%E1%84%8C%E1%85%AE%E1%86%BC%E1%84%80%E1%85%A1%E1%86%AB%E1%84%80%E1%85%A9%E1%84%89%E1%85%A1_%E1%84%8C%E1%85%A6%E1%84%8E%E1%85%AE%E1%86%AF_2023183946_%EB%85%B8%EB%8B%A4%EC%86%9C.ipynb\" target=\"_parent\"><img src=\"https://colab.research.google.com/assets/colab-badge.svg\" alt=\"Open In Colab\"/></a>"
      ]
    },
    {
      "cell_type": "markdown",
      "id": "7cbd32d0",
      "metadata": {
        "id": "7cbd32d0"
      },
      "source": [
        "# 중간고사 2023183946 노다솜\n"
      ]
    },
    {
      "cell_type": "markdown",
      "id": "c8302987",
      "metadata": {
        "id": "c8302987"
      },
      "source": [
        "### 1. 키와 몸무게를 입력하면 BMI를 계산하는 프로그램을 작성하시오 (반복문을 사용해서 계속 몸무게/키를 입력받음. 종료는 -1000을 입력하면 종료하도록 함)"
      ]
    },
    {
      "cell_type": "code",
      "execution_count": 3,
      "id": "32f1e7f5",
      "metadata": {
        "scrolled": true,
        "colab": {
          "base_uri": "https://localhost:8080/"
        },
        "id": "32f1e7f5",
        "outputId": "000948dc-6d52-424e-fa15-a5b6c4ec9a46"
      },
      "outputs": [
        {
          "output_type": "stream",
          "name": "stdout",
          "text": [
            "BMI 계산기\n",
            "[입력]\n",
            "키(cm,정수)를 입력하시오(-1000입력시 종료) : 170\n",
            "몸무게(kg,정수)를 입력하시오(-1000입력시 종료) : 90\n",
            "[출력]\n",
            "당신의 BMI는 다음과 같습니다 → 31.14\n",
            "BMI 계산기\n",
            "[입력]\n",
            "키(cm,정수)를 입력하시오(-1000입력시 종료) : 180\n",
            "몸무게(kg,정수)를 입력하시오(-1000입력시 종료) : 60\n",
            "[출력]\n",
            "당신의 BMI는 다음과 같습니다 → 18.52\n",
            "BMI 계산기\n",
            "[입력]\n",
            "키(cm,정수)를 입력하시오(-1000입력시 종료) : -1000\n",
            "종료합니다\n"
          ]
        }
      ],
      "source": [
        "while True:\n",
        "    print(\"BMI 계산기\")\n",
        "    print(\"[입력]\")\n",
        "    heightcm = int(input(\"키(cm,정수)를 입력하시오(-1000입력시 종료) : \"))\n",
        "    if heightcm == -1000:\n",
        "        print(\"종료합니다\")\n",
        "        break\n",
        "    weight = int(input(\"몸무게(kg,정수)를 입력하시오(-1000입력시 종료) : \"))\n",
        "    if weight == -1000:\n",
        "        print(\"[출력]\")\n",
        "        print(\"종료합니다\")\n",
        "        break\n",
        "    heightm = heightcm/100\n",
        "    bmi = weight / ((heightm)*(heightm))\n",
        "    print(\"[출력]\")\n",
        "    print(\"당신의 BMI는 다음과 같습니다 →\", round(bmi,2))"
      ]
    },
    {
      "cell_type": "markdown",
      "id": "6ab52b60",
      "metadata": {
        "id": "6ab52b60"
      },
      "source": [
        "　"
      ]
    },
    {
      "cell_type": "markdown",
      "id": "18e5ac62",
      "metadata": {
        "id": "18e5ac62"
      },
      "source": [
        "### 2. 숫자 2개를 입력받아서 큰수와 작은수를 차례로 출력하는 프로그램을 작성하시오 (반복문을 사용해서 계속 입력받음. 종료는  0을 두번 입력하면 종료하도록 함) "
      ]
    },
    {
      "cell_type": "code",
      "execution_count": 4,
      "id": "5c515620",
      "metadata": {
        "colab": {
          "base_uri": "https://localhost:8080/"
        },
        "id": "5c515620",
        "outputId": "092e4e95-9fa2-4c6e-f30f-6c5191ac7a8e"
      },
      "outputs": [
        {
          "output_type": "stream",
          "name": "stdout",
          "text": [
            "0을 두 번 연속으로 입력하면 종료됩니다\n",
            "[입력]\n",
            "첫 번째 숫자(정수)를 입력하시오 : 9\n",
            "두 번째 숫자(정수)를 입력하시오 : 6\n",
            "[출력]\n",
            "큰 수 : 9\n",
            "작은 수 : 6\n",
            "0을 두 번 연속으로 입력하면 종료됩니다\n",
            "[입력]\n",
            "첫 번째 숫자(정수)를 입력하시오 : 7\n",
            "두 번째 숫자(정수)를 입력하시오 : 9\n",
            "[출력]\n",
            "큰 수 : 9\n",
            "작은 수 : 7\n",
            "0을 두 번 연속으로 입력하면 종료됩니다\n",
            "[입력]\n",
            "첫 번째 숫자(정수)를 입력하시오 : 0\n",
            "두 번째 숫자(정수)를 입력하시오 : 0\n",
            "[출력]\n",
            "종료합니다\n"
          ]
        }
      ],
      "source": [
        "\n",
        "while True:\n",
        "    print(\"0을 두 번 연속으로 입력하면 종료됩니다\")\n",
        "    print(\"[입력]\")\n",
        "    number1 = int(input(\"첫 번째 숫자(정수)를 입력하시오 : \"))\n",
        "    number2 = int(input(\"두 번째 숫자(정수)를 입력하시오 : \"))\n",
        "    if (number1 == 0) & (number2 == 0):\n",
        "        print(\"[출력]\")\n",
        "        print(\"종료합니다\")\n",
        "        break\n",
        "    if number1 > number2:\n",
        "        print(\"[출력]\")\n",
        "        print(\"큰 수 :\", number1)\n",
        "        print(\"작은 수 :\", number2)\n",
        "    elif number2 > number1:\n",
        "        print(\"[출력]\")\n",
        "        print(\"큰 수 :\", number2)\n",
        "        print(\"작은 수 :\", number1)\n",
        "    else:\n",
        "        print(\"[출력]\")\n",
        "        print(\"두 수는 같습니다.\")"
      ]
    },
    {
      "cell_type": "markdown",
      "id": "b5240000",
      "metadata": {
        "id": "b5240000"
      },
      "source": [
        "　"
      ]
    },
    {
      "cell_type": "markdown",
      "id": "de67c960",
      "metadata": {
        "id": "de67c960"
      },
      "source": [
        "### 3. 10명의 학생 이름과 점수를 입력받아 등수를 계산하고, 출력 시에는 이름, 점수를 등수 순서대로 출력하는 프로그램을 작성하시오."
      ]
    },
    {
      "cell_type": "code",
      "execution_count": 5,
      "id": "bb88d058",
      "metadata": {
        "colab": {
          "base_uri": "https://localhost:8080/"
        },
        "id": "bb88d058",
        "outputId": "dcf436d3-53ee-4f2d-bd94-ed706ddeabd1"
      },
      "outputs": [
        {
          "output_type": "stream",
          "name": "stdout",
          "text": [
            "1번 학생 이름을 입력하세요 : 김사부\n",
            "김사부 학생의 점수(정수)를 입력하세요 : 89\n",
            "2번 학생 이름을 입력하세요 : 유인나\n",
            "유인나 학생의 점수(정수)를 입력하세요 : 43\n",
            "3번 학생 이름을 입력하세요 : 아이유\n",
            "아이유 학생의 점수(정수)를 입력하세요 : 90\n",
            "4번 학생 이름을 입력하세요 : 김도기\n",
            "김도기 학생의 점수(정수)를 입력하세요 : 77\n",
            "5번 학생 이름을 입력하세요 : 돌돌이\n",
            "돌돌이 학생의 점수(정수)를 입력하세요 : 90\n",
            "6번 학생 이름을 입력하세요 : 김큐큐\n",
            "김큐큐 학생의 점수(정수)를 입력하세요 : 33\n",
            "7번 학생 이름을 입력하세요 : 망돌이\n",
            "망돌이 학생의 점수(정수)를 입력하세요 : 53\n",
            "8번 학생 이름을 입력하세요 : 김퓨퓨\n",
            "김퓨퓨 학생의 점수(정수)를 입력하세요 : 87\n",
            "9번 학생 이름을 입력하세요 : 솜솜이\n",
            "솜솜이 학생의 점수(정수)를 입력하세요 : 100\n",
            "10번 학생 이름을 입력하세요 : 뜡냥이\n",
            "뜡냥이 학생의 점수(정수)를 입력하세요 : 86\n",
            "1등 - 이름 : 솜솜이, 점수 : 100점\n",
            "2등 - 이름 : 아이유, 점수 : 90점\n",
            "2등 - 이름 : 돌돌이, 점수 : 90점\n",
            "4등 - 이름 : 김사부, 점수 : 89점\n",
            "5등 - 이름 : 김퓨퓨, 점수 : 87점\n",
            "6등 - 이름 : 뜡냥이, 점수 : 86점\n",
            "7등 - 이름 : 김도기, 점수 : 77점\n",
            "8등 - 이름 : 망돌이, 점수 : 53점\n",
            "9등 - 이름 : 유인나, 점수 : 43점\n",
            "10등 - 이름 : 김큐큐, 점수 : 33점\n"
          ]
        }
      ],
      "source": [
        "students = []\n",
        "\n",
        "for i in range(1, 11):\n",
        "    name = input(f\"{i}번 학생 이름을 입력하세요 : \")\n",
        "    score = int(input(f\"{name} 학생의 점수(정수)를 입력하세요 : \"))\n",
        "    students.append([name, score])\n",
        "\n",
        "for i in range(len(students)):\n",
        "    rank = 1\n",
        "    for j in range(len(students)):\n",
        "        if students[i][1] < students[j][1]:\n",
        "            rank += 1\n",
        "    students[i].append(rank)\n",
        "\n",
        "students.sort(key=lambda x: x[2])\n",
        "for i in range(len(students)):\n",
        "    print(f\"{students[i][2]}등 - 이름 : {students[i][0]}, 점수 : {students[i][1]}점\")"
      ]
    }
  ],
  "metadata": {
    "kernelspec": {
      "display_name": "Python 3 (ipykernel)",
      "language": "python",
      "name": "python3"
    },
    "language_info": {
      "codemirror_mode": {
        "name": "ipython",
        "version": 3
      },
      "file_extension": ".py",
      "mimetype": "text/x-python",
      "name": "python",
      "nbconvert_exporter": "python",
      "pygments_lexer": "ipython3",
      "version": "3.9.13"
    },
    "colab": {
      "provenance": [],
      "include_colab_link": true
    }
  },
  "nbformat": 4,
  "nbformat_minor": 5
}